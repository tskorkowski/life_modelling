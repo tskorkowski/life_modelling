{
 "cells": [
  {
   "cell_type": "code",
   "execution_count": 1,
   "metadata": {},
   "outputs": [],
   "source": [
    "import numpy as np\n",
    "import pandas as pd\n"
   ]
  },
  {
   "cell_type": "code",
   "execution_count": 18,
   "metadata": {},
   "outputs": [],
   "source": [
    "# set up drift\n",
    "drift = 2\n",
    "start = 0\n",
    "n_stps = 10\n",
    "mean = 0\n",
    "std_dev = 1"
   ]
  },
  {
   "cell_type": "code",
   "execution_count": 19,
   "metadata": {},
   "outputs": [],
   "source": [
    "def rw_d(start, n_steps, drift):\n",
    "\n",
    "    x = start\n",
    "    for i in range(n_steps):\n",
    "        x += drift + np.random.normal(mean, std_dev)\n",
    "    return x"
   ]
  },
  {
   "cell_type": "code",
   "execution_count": 20,
   "metadata": {},
   "outputs": [],
   "source": [
    "# get 1000 simulations of random wlak at setp 3\n",
    "fin_pos = [rw_d(start, n_stps, drift) for x in range(1000)]"
   ]
  },
  {
   "cell_type": "code",
   "execution_count": 21,
   "metadata": {},
   "outputs": [],
   "source": [
    "fin_pos = np.array(fin_pos)\n",
    "fin_pos_sorted = np.sort(fin_pos)"
   ]
  },
  {
   "cell_type": "code",
   "execution_count": 22,
   "metadata": {},
   "outputs": [
    {
     "name": "stdout",
     "output_type": "stream",
     "text": [
      "0.0\n",
      "0.951\n"
     ]
    }
   ],
   "source": [
    "lecture_ci_l, lecture_ci_u = start - n_stps**0.5 * 1.96, start + n_stps**0.5 * 1.96\n",
    "mask_l = (fin_pos > lecture_ci_l) & (fin_pos < lecture_ci_u)\n",
    "mask_t =  (fin_pos > lecture_ci_l + n_stps * drift ) & (fin_pos < lecture_ci_u + n_stps * drift)\n",
    "print( np.count_nonzero(mask_l) / len(fin_pos), np.count_nonzero(mask_t) / len(fin_pos), sep='\\n')\n"
   ]
  }
 ],
 "metadata": {
  "kernelspec": {
   "display_name": "venv",
   "language": "python",
   "name": "python3"
  },
  "language_info": {
   "codemirror_mode": {
    "name": "ipython",
    "version": 3
   },
   "file_extension": ".py",
   "mimetype": "text/x-python",
   "name": "python",
   "nbconvert_exporter": "python",
   "pygments_lexer": "ipython3",
   "version": "3.10.8"
  }
 },
 "nbformat": 4,
 "nbformat_minor": 2
}
